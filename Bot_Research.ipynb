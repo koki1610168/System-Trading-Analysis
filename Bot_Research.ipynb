{
 "cells": [
  {
   "cell_type": "code",
   "execution_count": 1,
   "id": "90b6e833",
   "metadata": {},
   "outputs": [],
   "source": [
    "import requests"
   ]
  },
  {
   "cell_type": "code",
   "execution_count": 2,
   "id": "412ab664",
   "metadata": {},
   "outputs": [
    {
     "name": "stdout",
     "output_type": "stream",
     "text": [
      "{'product_code': 'BTC_JPY', 'state': 'RUNNING', 'timestamp': '2024-09-10T00:11:59.6', 'tick_id': 47314261, 'best_bid': 8165564.0, 'best_ask': 8169393.0, 'best_bid_size': 0.02, 'best_ask_size': 0.01309455, 'total_bid_depth': 237.25175476, 'total_ask_depth': 273.4198027, 'market_bid_size': 0.0, 'market_ask_size': 0.0, 'ltp': 8169394.0, 'volume': 2730.82222069, 'volume_by_product': 1254.95178811}\n"
     ]
    }
   ],
   "source": [
    "response = requests.get(\"https://api.bitflyer.jp/v1/ticker/\")\n",
    "print(response.json())"
   ]
  },
  {
   "cell_type": "code",
   "execution_count": null,
   "id": "a8b3018f",
   "metadata": {},
   "outputs": [],
   "source": [
    "x"
   ]
  }
 ],
 "metadata": {
  "kernelspec": {
   "display_name": "Python [conda env:data_kudo] *",
   "language": "python",
   "name": "conda-env-data_kudo-py"
  },
  "language_info": {
   "codemirror_mode": {
    "name": "ipython",
    "version": 3
   },
   "file_extension": ".py",
   "mimetype": "text/x-python",
   "name": "python",
   "nbconvert_exporter": "python",
   "pygments_lexer": "ipython3",
   "version": "3.8.19"
  }
 },
 "nbformat": 4,
 "nbformat_minor": 5
}
