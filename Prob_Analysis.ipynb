{
 "cells": [
  {
   "cell_type": "code",
   "execution_count": 113,
   "id": "b586d66c",
   "metadata": {},
   "outputs": [
    {
     "name": "stdout",
     "output_type": "stream",
     "text": [
      "1000回の取引後の最終資金: 2339664.66円\n"
     ]
    }
   ],
   "source": [
    "import numpy as np\n",
    "\n",
    "# 初期設定\n",
    "initial_capital = 850000  # 初期資金（85万円）\n",
    "fee_per_trade = 800  # 一回の取引でかかる手数料\n",
    "win_probability = 0.51  # 勝つ確率\n",
    "num_trades = 500  # 取引回数\n",
    "\n",
    "# 勝つ場合のリターンと負ける場合の損失\n",
    "win_return_percentage = 0.012 # 勝った場合のリターン（2%）\n",
    "loss_return_percentage = 0.01  # 負けた場合の損失（1%）\n",
    "\n",
    "# シミュレーションを実行する関数\n",
    "def simulate_trades(initial_capital, fee_per_trade, win_probability, num_trades, win_return_percentage, loss_return_percentage):\n",
    "    capital = initial_capital\n",
    "    \n",
    "    for _ in range(num_trades):\n",
    "        # 手数料を引く\n",
    "        capital -= fee_per_trade\n",
    "        \n",
    "        # 現在の資金の2倍の額\n",
    "        trade_amount = capital * 2\n",
    "        \n",
    "        # 勝敗を決定\n",
    "        if np.random.rand() < win_probability:\n",
    "            # 勝った場合\n",
    "            capital += trade_amount * win_return_percentage\n",
    "        else:\n",
    "            # 負けた場合\n",
    "            capital -= trade_amount * loss_return_percentage\n",
    "        \n",
    "    return capital\n",
    "\n",
    "# シミュレーション実行\n",
    "final_capital = simulate_trades(initial_capital, fee_per_trade, win_probability, num_trades, win_return_percentage, loss_return_percentage)\n",
    "print(f\"1000回の取引後の最終資金: {final_capital:.2f}円\")\n"
   ]
  },
  {
   "cell_type": "code",
   "execution_count": null,
   "id": "a0d1f17d",
   "metadata": {},
   "outputs": [],
   "source": []
  }
 ],
 "metadata": {
  "kernelspec": {
   "display_name": "Python [conda env:data_kudo] *",
   "language": "python",
   "name": "conda-env-data_kudo-py"
  },
  "language_info": {
   "codemirror_mode": {
    "name": "ipython",
    "version": 3
   },
   "file_extension": ".py",
   "mimetype": "text/x-python",
   "name": "python",
   "nbconvert_exporter": "python",
   "pygments_lexer": "ipython3",
   "version": "3.8.19"
  }
 },
 "nbformat": 4,
 "nbformat_minor": 5
}
