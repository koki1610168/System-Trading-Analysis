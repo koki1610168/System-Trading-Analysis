{
 "cells": [
  {
   "cell_type": "code",
   "execution_count": 1,
   "id": "7612cb71",
   "metadata": {},
   "outputs": [],
   "source": [
    "import numpy as np\n",
    "import matplotlib.pyplot as plt\n",
    "import pandas as pd\n",
    "\n",
    "from pandas_datareader import data as pdr\n",
    "import yfinance as yf\n",
    "yf.pdr_override()"
   ]
  },
  {
   "cell_type": "code",
   "execution_count": 2,
   "id": "9b6cd0c9",
   "metadata": {},
   "outputs": [],
   "source": [
    "tickers = ('3315.T', '5011.T', '5017.T', '5019.T', '5020.T', '5021.T')"
   ]
  },
  {
   "cell_type": "code",
   "execution_count": 4,
   "id": "39a0aff4",
   "metadata": {},
   "outputs": [
    {
     "name": "stdout",
     "output_type": "stream",
     "text": [
      "3315.T\n"
     ]
    },
    {
     "name": "stderr",
     "output_type": "stream",
     "text": [
      "[*********************100%%**********************]  1 of 1 completed\n"
     ]
    },
    {
     "name": "stdout",
     "output_type": "stream",
     "text": [
      "5011.T\n"
     ]
    },
    {
     "name": "stderr",
     "output_type": "stream",
     "text": [
      "[*********************100%%**********************]  1 of 1 completed\n"
     ]
    },
    {
     "name": "stdout",
     "output_type": "stream",
     "text": [
      "5017.T\n"
     ]
    },
    {
     "name": "stderr",
     "output_type": "stream",
     "text": [
      "[*********************100%%**********************]  1 of 1 completed\n"
     ]
    },
    {
     "name": "stdout",
     "output_type": "stream",
     "text": [
      "5019.T\n"
     ]
    },
    {
     "name": "stderr",
     "output_type": "stream",
     "text": [
      "[*********************100%%**********************]  1 of 1 completed\n"
     ]
    },
    {
     "name": "stdout",
     "output_type": "stream",
     "text": [
      "5020.T\n"
     ]
    },
    {
     "name": "stderr",
     "output_type": "stream",
     "text": [
      "[*********************100%%**********************]  1 of 1 completed\n"
     ]
    },
    {
     "name": "stdout",
     "output_type": "stream",
     "text": [
      "5021.T\n"
     ]
    },
    {
     "name": "stderr",
     "output_type": "stream",
     "text": [
      "[*********************100%%**********************]  1 of 1 completed\n"
     ]
    }
   ],
   "source": [
    "df = pd.DataFrame()\n",
    "for ticker in tickers:\n",
    "    print(ticker)\n",
    "    data = pdr.get_data_yahoo(ticker,start = '2006-01-01',end='2024-09-09')['Adj Close']\n",
    "    data.name = ticker\n",
    "    df = pd.concat([df,data],axis = 1)\n",
    "\n"
   ]
  },
  {
   "cell_type": "code",
   "execution_count": 6,
   "id": "75809bd4",
   "metadata": {},
   "outputs": [],
   "source": [
    "for i in np.arange(len(df.index)):\n",
    "    df.index.values[i] = str(df.index[i].date())\n",
    "\n",
    "df.index = df.index.rename('Date')"
   ]
  },
  {
   "cell_type": "code",
   "execution_count": 7,
   "id": "62500140",
   "metadata": {},
   "outputs": [
    {
     "data": {
      "text/html": [
       "<div>\n",
       "<style scoped>\n",
       "    .dataframe tbody tr th:only-of-type {\n",
       "        vertical-align: middle;\n",
       "    }\n",
       "\n",
       "    .dataframe tbody tr th {\n",
       "        vertical-align: top;\n",
       "    }\n",
       "\n",
       "    .dataframe thead th {\n",
       "        text-align: right;\n",
       "    }\n",
       "</style>\n",
       "<table border=\"1\" class=\"dataframe\">\n",
       "  <thead>\n",
       "    <tr style=\"text-align: right;\">\n",
       "      <th></th>\n",
       "      <th>3315.T</th>\n",
       "      <th>5011.T</th>\n",
       "      <th>5017.T</th>\n",
       "      <th>5019.T</th>\n",
       "      <th>5020.T</th>\n",
       "      <th>5021.T</th>\n",
       "    </tr>\n",
       "    <tr>\n",
       "      <th>Date</th>\n",
       "      <th></th>\n",
       "      <th></th>\n",
       "      <th></th>\n",
       "      <th></th>\n",
       "      <th></th>\n",
       "      <th></th>\n",
       "    </tr>\n",
       "  </thead>\n",
       "  <tbody>\n",
       "    <tr>\n",
       "      <th>2006-01-02</th>\n",
       "      <td>242.901154</td>\n",
       "      <td>305.658234</td>\n",
       "      <td>1425.576904</td>\n",
       "      <td>NaN</td>\n",
       "      <td>542.606873</td>\n",
       "      <td>NaN</td>\n",
       "    </tr>\n",
       "    <tr>\n",
       "      <th>2006-01-03</th>\n",
       "      <td>242.901154</td>\n",
       "      <td>305.658234</td>\n",
       "      <td>1425.576904</td>\n",
       "      <td>NaN</td>\n",
       "      <td>542.606873</td>\n",
       "      <td>NaN</td>\n",
       "    </tr>\n",
       "    <tr>\n",
       "      <th>2006-01-04</th>\n",
       "      <td>256.663300</td>\n",
       "      <td>311.358185</td>\n",
       "      <td>1432.270020</td>\n",
       "      <td>NaN</td>\n",
       "      <td>557.432434</td>\n",
       "      <td>NaN</td>\n",
       "    </tr>\n",
       "    <tr>\n",
       "      <th>2006-01-05</th>\n",
       "      <td>273.177795</td>\n",
       "      <td>314.208069</td>\n",
       "      <td>1412.191284</td>\n",
       "      <td>NaN</td>\n",
       "      <td>559.211182</td>\n",
       "      <td>NaN</td>\n",
       "    </tr>\n",
       "    <tr>\n",
       "      <th>2006-01-06</th>\n",
       "      <td>260.103882</td>\n",
       "      <td>314.920593</td>\n",
       "      <td>1408.844727</td>\n",
       "      <td>NaN</td>\n",
       "      <td>546.165039</td>\n",
       "      <td>NaN</td>\n",
       "    </tr>\n",
       "  </tbody>\n",
       "</table>\n",
       "</div>"
      ],
      "text/plain": [
       "                3315.T      5011.T       5017.T  5019.T      5020.T  5021.T\n",
       "Date                                                                       \n",
       "2006-01-02  242.901154  305.658234  1425.576904     NaN  542.606873     NaN\n",
       "2006-01-03  242.901154  305.658234  1425.576904     NaN  542.606873     NaN\n",
       "2006-01-04  256.663300  311.358185  1432.270020     NaN  557.432434     NaN\n",
       "2006-01-05  273.177795  314.208069  1412.191284     NaN  559.211182     NaN\n",
       "2006-01-06  260.103882  314.920593  1408.844727     NaN  546.165039     NaN"
      ]
     },
     "execution_count": 7,
     "metadata": {},
     "output_type": "execute_result"
    }
   ],
   "source": [
    "df.head()"
   ]
  },
  {
   "cell_type": "code",
   "execution_count": 8,
   "id": "56fe9431",
   "metadata": {},
   "outputs": [],
   "source": [
    "from scipy.stats import kurtosis, skew\n",
    "def calculate_returns(prices):\n",
    "    return (prices / prices.shift(1) - 1) * 100\n",
    "\n",
    "def analyze_returns(returns):\n",
    "    mean = np.mean(returns)\n",
    "    std_dev = np.std(returns)\n",
    "    skewness = skew(returns)\n",
    "    kurt = kurtosis(returns)\n",
    "    return mean, std_dev, skewness, kurt"
   ]
  },
  {
   "cell_type": "code",
   "execution_count": 12,
   "id": "f5102f44",
   "metadata": {},
   "outputs": [
    {
     "data": {
      "text/html": [
       "<div>\n",
       "<style scoped>\n",
       "    .dataframe tbody tr th:only-of-type {\n",
       "        vertical-align: middle;\n",
       "    }\n",
       "\n",
       "    .dataframe tbody tr th {\n",
       "        vertical-align: top;\n",
       "    }\n",
       "\n",
       "    .dataframe thead th {\n",
       "        text-align: right;\n",
       "    }\n",
       "</style>\n",
       "<table border=\"1\" class=\"dataframe\">\n",
       "  <thead>\n",
       "    <tr style=\"text-align: right;\">\n",
       "      <th></th>\n",
       "      <th>3315.T</th>\n",
       "      <th>5011.T</th>\n",
       "      <th>5017.T</th>\n",
       "      <th>5019.T</th>\n",
       "      <th>5020.T</th>\n",
       "      <th>5021.T</th>\n",
       "    </tr>\n",
       "    <tr>\n",
       "      <th>Date</th>\n",
       "      <th></th>\n",
       "      <th></th>\n",
       "      <th></th>\n",
       "      <th></th>\n",
       "      <th></th>\n",
       "      <th></th>\n",
       "    </tr>\n",
       "  </thead>\n",
       "  <tbody>\n",
       "    <tr>\n",
       "      <th>2015-10-02</th>\n",
       "      <td>0.000000</td>\n",
       "      <td>-1.396347</td>\n",
       "      <td>-3.888879</td>\n",
       "      <td>-1.729707</td>\n",
       "      <td>0.022789</td>\n",
       "      <td>-1.125712</td>\n",
       "    </tr>\n",
       "    <tr>\n",
       "      <th>2015-10-05</th>\n",
       "      <td>0.990104</td>\n",
       "      <td>0.435720</td>\n",
       "      <td>2.890162</td>\n",
       "      <td>2.750278</td>\n",
       "      <td>2.575196</td>\n",
       "      <td>-1.834278</td>\n",
       "    </tr>\n",
       "    <tr>\n",
       "      <th>2015-10-06</th>\n",
       "      <td>0.980388</td>\n",
       "      <td>1.301522</td>\n",
       "      <td>-3.089883</td>\n",
       "      <td>1.070639</td>\n",
       "      <td>2.999349</td>\n",
       "      <td>-1.739692</td>\n",
       "    </tr>\n",
       "    <tr>\n",
       "      <th>2015-10-07</th>\n",
       "      <td>0.000000</td>\n",
       "      <td>-2.248399</td>\n",
       "      <td>4.927531</td>\n",
       "      <td>4.661021</td>\n",
       "      <td>3.019833</td>\n",
       "      <td>4.000003</td>\n",
       "    </tr>\n",
       "    <tr>\n",
       "      <th>2015-10-08</th>\n",
       "      <td>-0.970870</td>\n",
       "      <td>1.752467</td>\n",
       "      <td>-0.276238</td>\n",
       "      <td>0.050625</td>\n",
       "      <td>0.376892</td>\n",
       "      <td>0.819674</td>\n",
       "    </tr>\n",
       "  </tbody>\n",
       "</table>\n",
       "</div>"
      ],
      "text/plain": [
       "              3315.T    5011.T    5017.T    5019.T    5020.T    5021.T\n",
       "Date                                                                  \n",
       "2015-10-02  0.000000 -1.396347 -3.888879 -1.729707  0.022789 -1.125712\n",
       "2015-10-05  0.990104  0.435720  2.890162  2.750278  2.575196 -1.834278\n",
       "2015-10-06  0.980388  1.301522 -3.089883  1.070639  2.999349 -1.739692\n",
       "2015-10-07  0.000000 -2.248399  4.927531  4.661021  3.019833  4.000003\n",
       "2015-10-08 -0.970870  1.752467 -0.276238  0.050625  0.376892  0.819674"
      ]
     },
     "execution_count": 12,
     "metadata": {},
     "output_type": "execute_result"
    }
   ],
   "source": [
    "df_return = calculate_returns(df)\n",
    "df_return.dropna(axis=0, how='any', inplace=True)\n",
    "df_return.head()"
   ]
  },
  {
   "cell_type": "code",
   "execution_count": 40,
   "id": "0457dc81",
   "metadata": {},
   "outputs": [
    {
     "data": {
      "image/png": "[encoded data removed]",
      "text/plain": [
       "<Figure size 1000x600 with 1 Axes>"
      ]
     },
     "metadata": {},
     "output_type": "display_data"
    },
    {
     "name": "stdout",
     "output_type": "stream",
     "text": [
      "0.06822605682669602\n",
      "2.2455140135673175\n",
      "0.3535272738966588\n",
      "7.264109507840638\n"
     ]
    }
   ],
   "source": [
    "from matplotlib.ticker import PercentFormatter\n",
    "\n",
    "df_return = np.array(df_return)\n",
    "df_return = df_return.reshape(-1)\n",
    "ean, std_dev, skewness, kurt = analyze_returns(df_return)\n",
    "\n",
    "plt.figure(figsize=(10, 6))\n",
    "n, bins, _ = plt.hist(df_return, bins=50, edgecolor='black', alpha=0.7, density=True)\n",
    "plt.gca().yaxis.set_major_formatter(PercentFormatter(1))\n",
    "\n",
    "total_count = len(df_return)\n",
    "percentage = (n / total_count) * 100\n",
    "\n",
    "moment_info = f\"1st Moment: {mean:.3f}\\n2nd Moment: {std_dev:.3f}\\n3rd Moment: {skewness:.3f}\\n4th Moment: {kurt:.3f}\"\n",
    "plt.text(0.95, 0.95, moment_info, transform=plt.gca().transAxes, \n",
    "         verticalalignment='top', horizontalalignment='right', \n",
    "         bbox=dict(boxstyle='round', facecolor='white', alpha=0.8))\n",
    "plt.title('Daily Returns Distribution - TSE Stocks (2000-2018)')\n",
    "plt.xlabel('Return [%]')\n",
    "plt.ylabel('Frequency [%]')\n",
    "\n",
    "\n",
    "plt.xlim(-10, 10)\n",
    "plt.show()\n",
    "print(mean)\n",
    "print(std_dev)\n",
    "print(skewness)\n",
    "print(kurt)"
   ]
  },
  {
   "cell_type": "code",
   "execution_count": 75,
   "id": "7d6c2e41",
   "metadata": {},
   "outputs": [],
   "source": [
    "def get_data(tickers):\n",
    "    df = pd.DataFrame()\n",
    "    for ticker in tickers:\n",
    "        print(ticker)\n",
    "        data = pdr.get_data_yahoo(ticker,start = '2006-01-01',end='2024-09-09')['Adj Close']\n",
    "        data.name = ticker\n",
    "        df = pd.concat([df,data],axis = 1)\n",
    "        \n",
    "    for i in np.arange(len(df.index)):\n",
    "        df.index.values[i] = str(df.index[i].date())\n",
    "\n",
    "    df.index = df.index.rename('Date')\n",
    "    \n",
    "    df_return = calculate_returns(df)\n",
    "    df_return.dropna(axis=0, how='any', inplace=True)\n",
    "    \n",
    "    \n",
    "    df_return = np.array(df_return)\n",
    "    df_return = df_return.reshape(-1)\n",
    "    ean, std_dev, skewness, kurt = analyze_returns(df_return)\n",
    "\n",
    "    plt.figure(figsize=(10, 6))\n",
    "    n, bins, _ = plt.hist(df_return, bins=50, edgecolor='black', alpha=0.7, density=True)\n",
    "    plt.gca().yaxis.set_major_formatter(PercentFormatter(1))\n",
    "\n",
    "    total_count = len(df_return)\n",
    "    percentage = (n / total_count) * 100\n",
    "\n",
    "    moment_info = f\"1st Moment: {mean:.3f}\\n2nd Moment: {std_dev:.3f}\\n3rd Moment: {skewness:.3f}\\n4th Moment: {kurt:.3f}\"\n",
    "    plt.text(0.95, 0.95, moment_info, transform=plt.gca().transAxes, \n",
    "             verticalalignment='top', horizontalalignment='right', \n",
    "             bbox=dict(boxstyle='round', facecolor='white', alpha=0.8))\n",
    "    plt.title('Daily Returns Distribution - TSE Stocks (2000-2018)')\n",
    "    plt.xlabel('Return [%]')\n",
    "    plt.ylabel('Frequency [%]')\n",
    "\n",
    "\n",
    "    plt.xlim(-10, 10)\n",
    "    plt.show()\n",
    "    print(mean)\n",
    "    print(std_dev)\n",
    "    print(skewness)\n",
    "    print(kurt)\n",
    "    "
   ]
  },
  {
   "cell_type": "code",
   "execution_count": 77,
   "id": "da0deee2",
   "metadata": {},
   "outputs": [],
   "source": [
    "oil = ('3315.T', '5011.T', '5017.T', '5019.T', '5020.T', '5021.T')\n",
    "ele_gas = ('9501.T', '9502.T', '9503.T', '9504.T', '9505.T', '9506.T', '9507.T',\n",
    "            '9508.T', '9509.T', '9511.T', '9513.T', '9517.T', '9519.T',\n",
    "              '9531.T', '9532.T', '9533.T', '9534.T', '9535.T', '9536.T',\n",
    "              '9543.T', '9551.T')"
   ]
  },
  {
   "cell_type": "code",
   "execution_count": 78,
   "id": "9a12646b",
   "metadata": {},
   "outputs": [
    {
     "name": "stdout",
     "output_type": "stream",
     "text": [
      "9501.T\n"
     ]
    },
    {
     "name": "stderr",
     "output_type": "stream",
     "text": [
      "[*********************100%%**********************]  1 of 1 completed\n"
     ]
    },
    {
     "name": "stdout",
     "output_type": "stream",
     "text": [
      "9502.T\n"
     ]
    },
    {
     "name": "stderr",
     "output_type": "stream",
     "text": [
      "[*********************100%%**********************]  1 of 1 completed\n"
     ]
    },
    {
     "name": "stdout",
     "output_type": "stream",
     "text": [
      "9503.T\n"
     ]
    },
    {
     "name": "stderr",
     "output_type": "stream",
     "text": [
      "[*********************100%%**********************]  1 of 1 completed\n"
     ]
    },
    {
     "name": "stdout",
     "output_type": "stream",
     "text": [
      "9504.T\n"
     ]
    },
    {
     "name": "stderr",
     "output_type": "stream",
     "text": [
      "[*********************100%%**********************]  1 of 1 completed\n"
     ]
    },
    {
     "name": "stdout",
     "output_type": "stream",
     "text": [
      "9505.T\n"
     ]
    },
    {
     "name": "stderr",
     "output_type": "stream",
     "text": [
      "[*********************100%%**********************]  1 of 1 completed\n"
     ]
    },
    {
     "name": "stdout",
     "output_type": "stream",
     "text": [
      "9506.T\n"
     ]
    },
    {
     "name": "stderr",
     "output_type": "stream",
     "text": [
      "[*********************100%%**********************]  1 of 1 completed\n"
     ]
    },
    {
     "name": "stdout",
     "output_type": "stream",
     "text": [
      "9507.T\n"
     ]
    },
    {
     "name": "stderr",
     "output_type": "stream",
     "text": [
      "[*********************100%%**********************]  1 of 1 completed\n"
     ]
    },
    {
     "name": "stdout",
     "output_type": "stream",
     "text": [
      "9508.T\n"
     ]
    },
    {
     "name": "stderr",
     "output_type": "stream",
     "text": [
      "[*********************100%%**********************]  1 of 1 completed\n"
     ]
    },
    {
     "name": "stdout",
     "output_type": "stream",
     "text": [
      "9509.T\n"
     ]
    },
    {
     "name": "stderr",
     "output_type": "stream",
     "text": [
      "[*********************100%%**********************]  1 of 1 completed\n"
     ]
    },
    {
     "name": "stdout",
     "output_type": "stream",
     "text": [
      "9511.T\n"
     ]
    },
    {
     "name": "stderr",
     "output_type": "stream",
     "text": [
      "[*********************100%%**********************]  1 of 1 completed\n"
     ]
    },
    {
     "name": "stdout",
     "output_type": "stream",
     "text": [
      "9513.T\n"
     ]
    },
    {
     "name": "stderr",
     "output_type": "stream",
     "text": [
      "[*********************100%%**********************]  1 of 1 completed\n"
     ]
    },
    {
     "name": "stdout",
     "output_type": "stream",
     "text": [
      "9517.T\n"
     ]
    },
    {
     "name": "stderr",
     "output_type": "stream",
     "text": [
      "[*********************100%%**********************]  1 of 1 completed\n"
     ]
    },
    {
     "name": "stdout",
     "output_type": "stream",
     "text": [
      "9519.T\n"
     ]
    },
    {
     "name": "stderr",
     "output_type": "stream",
     "text": [
      "[*********************100%%**********************]  1 of 1 completed\n"
     ]
    },
    {
     "name": "stdout",
     "output_type": "stream",
     "text": [
      "9531.T\n"
     ]
    },
    {
     "name": "stderr",
     "output_type": "stream",
     "text": [
      "[*********************100%%**********************]  1 of 1 completed\n"
     ]
    },
    {
     "name": "stdout",
     "output_type": "stream",
     "text": [
      "9532.T\n"
     ]
    },
    {
     "name": "stderr",
     "output_type": "stream",
     "text": [
      "[*********************100%%**********************]  1 of 1 completed\n"
     ]
    },
    {
     "name": "stdout",
     "output_type": "stream",
     "text": [
      "9533.T\n"
     ]
    },
    {
     "name": "stderr",
     "output_type": "stream",
     "text": [
      "[*********************100%%**********************]  1 of 1 completed\n"
     ]
    },
    {
     "name": "stdout",
     "output_type": "stream",
     "text": [
      "9534.T\n"
     ]
    },
    {
     "name": "stderr",
     "output_type": "stream",
     "text": [
      "[*********************100%%**********************]  1 of 1 completed\n"
     ]
    },
    {
     "name": "stdout",
     "output_type": "stream",
     "text": [
      "9535.T\n"
     ]
    },
    {
     "name": "stderr",
     "output_type": "stream",
     "text": [
      "[*********************100%%**********************]  1 of 1 completed\n"
     ]
    },
    {
     "name": "stdout",
     "output_type": "stream",
     "text": [
      "9536.T\n"
     ]
    },
    {
     "name": "stderr",
     "output_type": "stream",
     "text": [
      "[*********************100%%**********************]  1 of 1 completed\n"
     ]
    },
    {
     "name": "stdout",
     "output_type": "stream",
     "text": [
      "9543.T\n"
     ]
    },
    {
     "name": "stderr",
     "output_type": "stream",
     "text": [
      "[*********************100%%**********************]  1 of 1 completed\n"
     ]
    },
    {
     "name": "stdout",
     "output_type": "stream",
     "text": [
      "9551.T\n"
     ]
    },
    {
     "name": "stderr",
     "output_type": "stream",
     "text": [
      "[*********************100%%**********************]  1 of 1 completed\n"
     ]
    },
    {
     "data": {
      "image/png": "[encoded data removed]",
      "text/plain": [
       "<Figure size 1000x600 with 1 Axes>"
      ]
     },
     "metadata": {},
     "output_type": "display_data"
    },
    {
     "name": "stdout",
     "output_type": "stream",
     "text": [
      "0.06822605682669602\n",
      "1.9551978025066723\n",
      "0.2594316865476345\n",
      "15.328789022206085\n"
     ]
    }
   ],
   "source": [
    "get_data(ele_gas)"
   ]
  },
  {
   "cell_type": "code",
   "execution_count": null,
   "id": "74331987",
   "metadata": {},
   "outputs": [],
   "source": []
  }
 ],
 "metadata": {
  "kernelspec": {
   "display_name": "Python [conda env:data_kudo] *",
   "language": "python",
   "name": "conda-env-data_kudo-py"
  },
  "language_info": {
   "codemirror_mode": {
    "name": "ipython",
    "version": 3
   },
   "file_extension": ".py",
   "mimetype": "text/x-python",
   "name": "python",
   "nbconvert_exporter": "python",
   "pygments_lexer": "ipython3",
   "version": "3.8.19"
  }
 },
 "nbformat": 4,
 "nbformat_minor": 5
}
